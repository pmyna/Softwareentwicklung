{
 "cells": [
  {
   "cell_type": "code",
   "execution_count": null,
   "id": "925af6df-f051-407e-8ce1-530deb855dd5",
   "metadata": {},
   "outputs": [],
   "source": [
    "#include <iostream>\n",
    "using namespace std;\n",
    "\n",
    "cout << \"Hello\" << endl;"
   ]
  },
  {
   "cell_type": "code",
   "execution_count": null,
   "id": "509a59d4-17c0-4526-9cc0-291521e61a72",
   "metadata": {},
   "outputs": [],
   "source": []
  }
 ],
 "metadata": {
  "kernelspec": {
   "display_name": "C++17",
   "language": "C++17",
   "name": "xcpp17"
  },
  "language_info": {
   "name": ""
  }
 },
 "nbformat": 4,
 "nbformat_minor": 5
}
